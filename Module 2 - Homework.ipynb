{
 "cells": [
  {
   "cell_type": "markdown",
   "metadata": {},
   "source": [
    "### Homework #2"
   ]
  },
  {
   "cell_type": "markdown",
   "metadata": {},
   "source": [
    "1. Round 4.5667 to the nearest hundreth (2 decimals) using a build-in function, round()."
   ]
  },
  {
   "cell_type": "code",
   "execution_count": 1,
   "metadata": {},
   "outputs": [
    {
     "data": {
      "text/plain": [
       "4.57"
      ]
     },
     "execution_count": 1,
     "metadata": {},
     "output_type": "execute_result"
    }
   ],
   "source": [
    "round(4.5667,2)"
   ]
  },
  {
   "cell_type": "markdown",
   "metadata": {},
   "source": [
    "2. Convert \"657\" to an integer data type"
   ]
  },
  {
   "cell_type": "code",
   "execution_count": 3,
   "metadata": {},
   "outputs": [
    {
     "data": {
      "text/plain": [
       "657"
      ]
     },
     "execution_count": 3,
     "metadata": {},
     "output_type": "execute_result"
    }
   ],
   "source": [
    "int(\"657\")"
   ]
  },
  {
   "cell_type": "markdown",
   "metadata": {},
   "source": [
    "3. Write a program to get two numbers from a user. Then, create a 6-digit code that is a series of randomly generated numbers between the two numbers given by the user. Print the 6-digit code so all digits are separated by a dash. "
   ]
  },
  {
   "cell_type": "code",
   "execution_count": 19,
   "metadata": {},
   "outputs": [
    {
     "name": "stdout",
     "output_type": "stream",
     "text": [
      "first number: 1\n",
      "second number: 40\n",
      "39-34-10-37-9-12\n"
     ]
    }
   ],
   "source": [
    "import random as rand\n",
    "\n",
    "a = int(input(\"first number: \"))\n",
    "b = int(input(\"second number: \"))\n",
    "n1 = rand.randint(a,b)\n",
    "n2 = rand.randint(a,b)\n",
    "n3 = rand.randint(a,b)\n",
    "n4 = rand.randint(a,b)\n",
    "n5 = rand.randint(a,b)\n",
    "n6 = rand.randint(a,b)\n",
    "print(f\"{n1}-{n2}-{n3}-{n4}-{n5}-{n6}\")"
   ]
  },
  {
   "cell_type": "markdown",
   "metadata": {},
   "source": [
    "4. Write a program to remove ALL the white spaces from the following text:\n",
    "\n",
    "        Hickory, dickory, dock,     \n",
    "        The mouse ran up the clock.   \n",
    "        The clock struck one,   \n",
    "        The mouse ran down,                      \n",
    "        Hickory, dickory, dock                  "
   ]
  },
  {
   "cell_type": "code",
   "execution_count": 4,
   "metadata": {},
   "outputs": [],
   "source": [
    "line1=\"Hickory, dickory, dock,\"\n",
    "line2=\"The mouse ran up the clock.\"\n",
    "line3=\"The clock struck one,\"\n",
    "line4=\"The mouse ran down,\"\n",
    "line5=\"Hickory, dickory, dock\""
   ]
  },
  {
   "cell_type": "code",
   "execution_count": 6,
   "metadata": {},
   "outputs": [
    {
     "name": "stdout",
     "output_type": "stream",
     "text": [
      "Hickory,dickory,dock,\n",
      "Themouseranuptheclock.\n",
      "Theclockstruckone,\n",
      "Themouserandown,\n",
      "Hickory,dickory,dock\n"
     ]
    }
   ],
   "source": [
    "print(line1.replace(\" \",\"\"))\n",
    "print(line2.replace(\" \",\"\"))\n",
    "print(line3.replace(\" \",\"\"))\n",
    "print(line4.replace(\" \",\"\"))\n",
    "print(line5.replace(\" \",\"\"))"
   ]
  },
  {
   "cell_type": "markdown",
   "metadata": {},
   "source": [
    "5. Write a function to calculate the miles per gallon. Get a miles driven and gallons used from a user and call your function to calculate the miles per gallon."
   ]
  },
  {
   "cell_type": "code",
   "execution_count": 9,
   "metadata": {},
   "outputs": [
    {
     "name": "stdout",
     "output_type": "stream",
     "text": [
      "Enter miles traveled: 100\n",
      "Enter gallons used: 20\n",
      "miles per gallon(mpg): 5.0\n"
     ]
    }
   ],
   "source": [
    "def calculate(mi,gal):\n",
    "    return mi/gal\n",
    "\n",
    "mi = float(input(\"Enter miles traveled: \"))\n",
    "gal = float(input(\"Enter gallons used: \"))\n",
    "print(f\"miles per gallon(mpg): {calculate(mi,gal)}\")"
   ]
  },
  {
   "cell_type": "markdown",
   "metadata": {},
   "source": [
    "6. Enhance the <b>compute()</b> function created during Module 2. Enhance the function to compute a circle's area and circumference where:\n",
    "\n",
    " - circle's area = 3.14 X (radius X radius)   \n",
    " - circle's circumference = 3.14 X diameter"
   ]
  },
  {
   "cell_type": "code",
   "execution_count": 12,
   "metadata": {},
   "outputs": [
    {
     "name": "stdout",
     "output_type": "stream",
     "text": [
      "The area is 12.56\n",
      "The circumference is 12.56\n"
     ]
    }
   ],
   "source": [
    "def compute(r):\n",
    "    print(f\"The area is {3.14*r**2}\")\n",
    "    print(f\"The circumference is {2*3.14*r}\")\n",
    "    \n",
    "compute(2)"
   ]
  },
  {
   "cell_type": "markdown",
   "metadata": {},
   "source": [
    "7. Write a function called multiply_two() that accepts two parameters. The function should print a message like '15 * 2 = 30'.  Randomly generate two numbers between 1 and 100, then call the function with the two random numbers."
   ]
  },
  {
   "cell_type": "code",
   "execution_count": 16,
   "metadata": {},
   "outputs": [
    {
     "name": "stdout",
     "output_type": "stream",
     "text": [
      "15*2=30\n"
     ]
    }
   ],
   "source": [
    "import random as rand\n",
    "\n",
    "def multiply_two(a,b):\n",
    "    print(\"15*2=30\")\n",
    "\n",
    "a = rand.randint(1,100)\n",
    "b = rand.randint(1,100)\n",
    "\n",
    "multiply_two(a,b)"
   ]
  },
  {
   "cell_type": "markdown",
   "metadata": {},
   "source": [
    "8. Create a function for a multiplication table.  Get a number from a user and then call you function which produces a multiplication table for that number.\n",
    "The output should look something like this:\n",
    "\n",
    "        Enter a number: 3\n",
    "        3 X 1 = 3\n",
    "        3 X 2 = 6\n",
    "        3 X 3 = 9\n",
    "        3 X 4 = 12\n",
    "        3 X 5 = 15\n",
    "        3 X 6 = 18\n",
    "        3 X 7 = 21\n",
    "        3 X 8 = 24\n",
    "        3 X 9 = 27"
   ]
  },
  {
   "cell_type": "code",
   "execution_count": 17,
   "metadata": {},
   "outputs": [
    {
     "name": "stdout",
     "output_type": "stream",
     "text": [
      "Enter a number: 7\n",
      "7 x 1 = 7\n",
      "7 x 2 = 14\n",
      "7 x 3 = 21\n",
      "7 x 4 = 28\n",
      "7 x 5 = 35\n",
      "7 x 6 = 42\n",
      "7 x 7 = 49\n",
      "7 x 8 = 56\n",
      "7 x 9 = 63\n"
     ]
    }
   ],
   "source": [
    "def makeTable(n):\n",
    "    print(f\"{n} x 1 = {n}\")\n",
    "    print(f\"{n} x 2 = {2*n}\")\n",
    "    print(f\"{n} x 3 = {3*n}\")\n",
    "    print(f\"{n} x 4 = {4*n}\")\n",
    "    print(f\"{n} x 5 = {5*n}\")\n",
    "    print(f\"{n} x 6 = {6*n}\")\n",
    "    print(f\"{n} x 7 = {7*n}\")\n",
    "    print(f\"{n} x 8 = {8*n}\")\n",
    "    print(f\"{n} x 9 = {9*n}\")\n",
    "    \n",
    "n = int(input(\"Enter a number: \"))    \n",
    "\n",
    "makeTable(7)"
   ]
  }
 ],
 "metadata": {
  "kernelspec": {
   "display_name": "Python 3",
   "language": "python",
   "name": "python3"
  },
  "language_info": {
   "codemirror_mode": {
    "name": "ipython",
    "version": 3
   },
   "file_extension": ".py",
   "mimetype": "text/x-python",
   "name": "python",
   "nbconvert_exporter": "python",
   "pygments_lexer": "ipython3",
   "version": "3.8.5"
  }
 },
 "nbformat": 4,
 "nbformat_minor": 5
}
